{
 "cells": [
  {
   "cell_type": "markdown",
   "metadata": {},
   "source": [
    "# REGISTRATION\n",
    "\n",
    "##### MEDICAL IMAGE ANALYSIS\n",
    "##### Degree in Biomedical Engineering\n",
    "##### Course 2020/2021\n",
    "\n",
    "\n",
    "<div class=\"alert alert-block alert-success\">\n",
    "<b>Authors:</b> $$Raúl \\quad López \\quad González$$ <br>\n",
    "$$Hugo \\quad Calero \\quad Diaz$$ <br>\n",
    "$$Pablo \\quad Laso \\quad Mielgo$$\n",
    "\n",
    "</div>"
   ]
  },
  {
   "cell_type": "code",
   "execution_count": 1,
   "metadata": {},
   "outputs": [],
   "source": [
    "import pandas as pd\n",
    "import numpy as np\n",
    "import os\n",
    "import cv2\n",
    "import matplotlib.image as mpimg\n",
    "import glob\n",
    "from matplotlib import pyplot as plt"
   ]
  },
  {
   "cell_type": "markdown",
   "metadata": {},
   "source": [
    "# Files_images"
   ]
  },
  {
   "cell_type": "code",
   "execution_count": 2,
   "metadata": {},
   "outputs": [],
   "source": [
    "actual_file = r'C:\\Users\\riul0\\Desktop\\Uni\\1) MEDICAL IMAGE ANALYSIS\\LAB4\\head_ct'\n",
    "files_in_path = os.listdir(actual_file)"
   ]
  },
  {
   "cell_type": "markdown",
   "metadata": {},
   "source": [
    "# Labels"
   ]
  },
  {
   "cell_type": "code",
   "execution_count": 3,
   "metadata": {},
   "outputs": [
    {
     "name": "stdout",
     "output_type": "stream",
     "text": [
      "  id   hemorrhage\n",
      "   0            1\n",
      "   1            1\n",
      "   2            1\n",
      "   3            1\n",
      "   4            1\n",
      "   5            1\n",
      "   6            1\n",
      "   7            1\n",
      "   8            1\n",
      "   9            1\n",
      "  10            1\n",
      "  11            1\n",
      "  12            1\n",
      "  13            1\n",
      "  14            1\n",
      "  15            1\n",
      "  16            1\n",
      "  17            1\n",
      "  18            1\n",
      "  19            1\n",
      "  20            1\n",
      "  21            1\n",
      "  22            1\n",
      "  23            1\n",
      "  24            1\n",
      "  25            1\n",
      "  26            1\n",
      "  27            1\n",
      "  28            1\n",
      "  29            1\n",
      "  30            1\n",
      "  31            1\n",
      "  32            1\n",
      "  33            1\n",
      "  34            1\n",
      "  35            1\n",
      "  36            1\n",
      "  37            1\n",
      "  38            1\n",
      "  39            1\n",
      "  40            1\n",
      "  41            1\n",
      "  42            1\n",
      "  43            1\n",
      "  44            1\n",
      "  45            1\n",
      "  46            1\n",
      "  47            1\n",
      "  48            1\n",
      "  49            1\n",
      "  50            1\n",
      "  51            1\n",
      "  52            1\n",
      "  53            1\n",
      "  54            1\n",
      "  55            1\n",
      "  56            1\n",
      "  57            1\n",
      "  58            1\n",
      "  59            1\n",
      "  60            1\n",
      "  61            1\n",
      "  62            1\n",
      "  63            1\n",
      "  64            1\n",
      "  65            1\n",
      "  66            1\n",
      "  67            1\n",
      "  68            1\n",
      "  69            1\n",
      "  70            1\n",
      "  71            1\n",
      "  72            1\n",
      "  73            1\n",
      "  74            1\n",
      "  75            1\n",
      "  76            1\n",
      "  77            1\n",
      "  78            1\n",
      "  79            1\n",
      "  80            1\n",
      "  81            1\n",
      "  82            1\n",
      "  83            1\n",
      "  84            1\n",
      "  85            1\n",
      "  86            1\n",
      "  87            1\n",
      "  88            1\n",
      "  89            1\n",
      "  90            1\n",
      "  91            1\n",
      "  92            1\n",
      "  93            1\n",
      "  94            1\n",
      "  95            1\n",
      "  96            1\n",
      "  97            1\n",
      "  98            1\n",
      "  99            1\n",
      " 100            0\n",
      " 101            0\n",
      " 102            0\n",
      " 103            0\n",
      " 104            0\n",
      " 105            0\n",
      " 106            0\n",
      " 107            0\n",
      " 108            0\n",
      " 109            0\n",
      " 110            0\n",
      " 111            0\n",
      " 112            0\n",
      " 113            0\n",
      " 114            0\n",
      " 115            0\n",
      " 116            0\n",
      " 117            0\n",
      " 118            0\n",
      " 119            0\n",
      " 120            0\n",
      " 121            0\n",
      " 122            0\n",
      " 123            0\n",
      " 124            0\n",
      " 125            0\n",
      " 126            0\n",
      " 127            0\n",
      " 128            0\n",
      " 129            0\n",
      " 130            0\n",
      " 131            0\n",
      " 132            0\n",
      " 133            0\n",
      " 134            0\n",
      " 135            0\n",
      " 136            0\n",
      " 137            0\n",
      " 138            0\n",
      " 139            0\n",
      " 140            0\n",
      " 141            0\n",
      " 142            0\n",
      " 143            0\n",
      " 144            0\n",
      " 145            0\n",
      " 146            0\n",
      " 147            0\n",
      " 148            0\n",
      " 149            0\n",
      " 150            0\n",
      " 151            0\n",
      " 152            0\n",
      " 153            0\n",
      " 154            0\n",
      " 155            0\n",
      " 156            0\n",
      " 157            0\n",
      " 158            0\n",
      " 159            0\n",
      " 160            0\n",
      " 161            0\n",
      " 162            0\n",
      " 163            0\n",
      " 164            0\n",
      " 165            0\n",
      " 166            0\n",
      " 167            0\n",
      " 168            0\n",
      " 169            0\n",
      " 170            0\n",
      " 171            0\n",
      " 172            0\n",
      " 173            0\n",
      " 174            0\n",
      " 175            0\n",
      " 176            0\n",
      " 177            0\n",
      " 178            0\n",
      " 179            0\n",
      " 180            0\n",
      " 181            0\n",
      " 182            0\n",
      " 183            0\n",
      " 184            0\n",
      " 185            0\n",
      " 186            0\n",
      " 187            0\n",
      " 188            0\n",
      " 189            0\n",
      " 190            0\n",
      " 191            0\n",
      " 192            0\n",
      " 193            0\n",
      " 194            0\n",
      " 195            0\n",
      " 196            0\n",
      " 197            0\n",
      " 198            0\n",
      " 199            0\n"
     ]
    }
   ],
   "source": [
    "labels_csv = pd.read_csv('labels.csv')\n",
    "pd.set_option('display.max_rows', None)\n",
    "print(labels_csv.to_string(index=False))"
   ]
  },
  {
   "cell_type": "markdown",
   "metadata": {},
   "source": [
    "# Preprocessing"
   ]
  },
  {
   "cell_type": "markdown",
   "metadata": {},
   "source": [
    "In this section we normalize and resize each of the image to the corresponding maximun values from height, width and intensity."
   ]
  },
  {
   "cell_type": "code",
   "execution_count": 4,
   "metadata": {
    "scrolled": true
   },
   "outputs": [
    {
     "name": "stdout",
     "output_type": "stream",
     "text": [
      "head_ct\\000.png  dimensions =  (957, 821, 3)\n",
      "head_ct\\001.png  dimensions =  (768, 622, 3)\n",
      "head_ct\\002.png  dimensions =  (725, 662, 3)\n",
      "head_ct\\003.png  dimensions =  (708, 614, 3)\n",
      "head_ct\\004.png  dimensions =  (690, 609, 3)\n",
      "head_ct\\005.png  dimensions =  (690, 574, 3)\n",
      "head_ct\\006.png  dimensions =  (497, 341, 3)\n",
      "head_ct\\007.png  dimensions =  (500, 372, 3)\n",
      "head_ct\\008.png  dimensions =  (498, 409, 3)\n",
      "head_ct\\009.png  dimensions =  (288, 231, 3)\n",
      "head_ct\\010.png  dimensions =  (285, 247, 3)\n",
      "head_ct\\011.png  dimensions =  (635, 540, 3)\n",
      "head_ct\\012.png  dimensions =  (559, 531, 3)\n",
      "head_ct\\013.png  dimensions =  (601, 504, 3)\n",
      "head_ct\\014.png  dimensions =  (612, 505, 3)\n",
      "head_ct\\015.png  dimensions =  (495, 435, 3)\n",
      "head_ct\\016.png  dimensions =  (491, 426, 3)\n",
      "head_ct\\017.png  dimensions =  (623, 507, 3)\n",
      "head_ct\\018.png  dimensions =  (589, 495, 3)\n",
      "head_ct\\019.png  dimensions =  (582, 503, 3)\n",
      "head_ct\\020.png  dimensions =  (437, 349, 3)\n",
      "head_ct\\021.png  dimensions =  (608, 506, 3)\n",
      "head_ct\\022.png  dimensions =  (505, 413, 3)\n",
      "head_ct\\023.png  dimensions =  (301, 273, 3)\n",
      "head_ct\\024.png  dimensions =  (518, 399, 3)\n",
      "head_ct\\025.png  dimensions =  (604, 473, 3)\n",
      "head_ct\\026.png  dimensions =  (605, 550, 3)\n",
      "head_ct\\027.png  dimensions =  (564, 515, 3)\n",
      "head_ct\\028.png  dimensions =  (648, 555, 3)\n",
      "head_ct\\029.png  dimensions =  (623, 512, 3)\n",
      "head_ct\\030.png  dimensions =  (564, 507, 3)\n",
      "head_ct\\031.png  dimensions =  (413, 345, 3)\n",
      "head_ct\\032.png  dimensions =  (423, 346, 3)\n",
      "head_ct\\033.png  dimensions =  (624, 483, 3)\n",
      "head_ct\\034.png  dimensions =  (597, 449, 3)\n",
      "head_ct\\035.png  dimensions =  (615, 445, 3)\n",
      "head_ct\\036.png  dimensions =  (548, 466, 3)\n",
      "head_ct\\037.png  dimensions =  (652, 451, 3)\n",
      "head_ct\\038.png  dimensions =  (543, 448, 3)\n",
      "head_ct\\039.png  dimensions =  (591, 467, 3)\n",
      "head_ct\\040.png  dimensions =  (597, 463, 3)\n",
      "head_ct\\041.png  dimensions =  (358, 318, 3)\n",
      "head_ct\\042.png  dimensions =  (350, 313, 3)\n",
      "head_ct\\043.png  dimensions =  (509, 522, 3)\n",
      "head_ct\\044.png  dimensions =  (493, 510, 3)\n",
      "head_ct\\045.png  dimensions =  (528, 414, 3)\n",
      "head_ct\\046.png  dimensions =  (454, 384, 3)\n",
      "head_ct\\047.png  dimensions =  (459, 388, 3)\n",
      "head_ct\\048.png  dimensions =  (591, 463, 3)\n",
      "head_ct\\049.png  dimensions =  (559, 404, 3)\n",
      "head_ct\\050.png  dimensions =  (466, 355, 3)\n",
      "head_ct\\051.png  dimensions =  (415, 360, 3)\n",
      "head_ct\\052.png  dimensions =  (508, 418, 3)\n",
      "head_ct\\053.png  dimensions =  (520, 426, 3)\n",
      "head_ct\\054.png  dimensions =  (396, 294, 3)\n",
      "head_ct\\055.png  dimensions =  (410, 293, 3)\n",
      "head_ct\\056.png  dimensions =  (407, 298, 3)\n",
      "head_ct\\057.png  dimensions =  (555, 456, 3)\n",
      "head_ct\\058.png  dimensions =  (558, 450, 3)\n",
      "head_ct\\059.png  dimensions =  (238, 197, 3)\n",
      "head_ct\\060.png  dimensions =  (232, 188, 3)\n",
      "head_ct\\061.png  dimensions =  (632, 544, 3)\n",
      "head_ct\\062.png  dimensions =  (621, 524, 3)\n",
      "head_ct\\063.png  dimensions =  (649, 522, 3)\n",
      "head_ct\\064.png  dimensions =  (627, 488, 3)\n",
      "head_ct\\065.png  dimensions =  (290, 229, 3)\n",
      "head_ct\\066.png  dimensions =  (281, 242, 3)\n",
      "head_ct\\067.png  dimensions =  (405, 321, 3)\n",
      "head_ct\\068.png  dimensions =  (386, 318, 3)\n",
      "head_ct\\069.png  dimensions =  (554, 408, 3)\n",
      "head_ct\\070.png  dimensions =  (518, 382, 3)\n",
      "head_ct\\071.png  dimensions =  (582, 479, 3)\n",
      "head_ct\\072.png  dimensions =  (627, 543, 3)\n",
      "head_ct\\073.png  dimensions =  (577, 538, 3)\n",
      "head_ct\\074.png  dimensions =  (554, 449, 3)\n",
      "head_ct\\075.png  dimensions =  (338, 281, 3)\n",
      "head_ct\\076.png  dimensions =  (378, 280, 3)\n",
      "head_ct\\077.png  dimensions =  (293, 247, 3)\n",
      "head_ct\\078.png  dimensions =  (300, 262, 3)\n",
      "head_ct\\079.png  dimensions =  (367, 303, 3)\n",
      "head_ct\\080.png  dimensions =  (372, 291, 3)\n",
      "head_ct\\081.png  dimensions =  (641, 515, 3)\n",
      "head_ct\\082.png  dimensions =  (599, 484, 3)\n",
      "head_ct\\083.png  dimensions =  (456, 345, 3)\n",
      "head_ct\\084.png  dimensions =  (609, 481, 3)\n",
      "head_ct\\085.png  dimensions =  (410, 317, 3)\n",
      "head_ct\\086.png  dimensions =  (404, 321, 3)\n",
      "head_ct\\087.png  dimensions =  (353, 277, 3)\n",
      "head_ct\\088.png  dimensions =  (352, 279, 3)\n",
      "head_ct\\089.png  dimensions =  (337, 271, 3)\n",
      "head_ct\\090.png  dimensions =  (272, 230, 3)\n",
      "head_ct\\091.png  dimensions =  (467, 378, 3)\n",
      "head_ct\\092.png  dimensions =  (454, 420, 3)\n",
      "head_ct\\093.png  dimensions =  (443, 338, 3)\n",
      "head_ct\\094.png  dimensions =  (622, 487, 3)\n",
      "head_ct\\095.png  dimensions =  (576, 498, 3)\n",
      "head_ct\\096.png  dimensions =  (304, 236, 3)\n",
      "head_ct\\097.png  dimensions =  (576, 436, 3)\n",
      "head_ct\\098.png  dimensions =  (573, 431, 3)\n",
      "head_ct\\099.png  dimensions =  (544, 447, 3)\n",
      "head_ct\\100.png  dimensions =  (511, 352, 3)\n",
      "head_ct\\101.png  dimensions =  (504, 361, 3)\n",
      "head_ct\\102.png  dimensions =  (336, 264, 3)\n",
      "head_ct\\103.png  dimensions =  (422, 345, 3)\n",
      "head_ct\\104.png  dimensions =  (290, 224, 3)\n",
      "head_ct\\105.png  dimensions =  (283, 227, 3)\n",
      "head_ct\\106.png  dimensions =  (399, 278, 3)\n",
      "head_ct\\107.png  dimensions =  (408, 274, 3)\n",
      "head_ct\\108.png  dimensions =  (416, 274, 3)\n",
      "head_ct\\109.png  dimensions =  (315, 230, 3)\n",
      "head_ct\\110.png  dimensions =  (317, 229, 3)\n",
      "head_ct\\111.png  dimensions =  (317, 239, 3)\n",
      "head_ct\\112.png  dimensions =  (504, 427, 3)\n",
      "head_ct\\113.png  dimensions =  (435, 327, 3)\n",
      "head_ct\\114.png  dimensions =  (265, 200, 3)\n",
      "head_ct\\115.png  dimensions =  (269, 212, 3)\n",
      "head_ct\\116.png  dimensions =  (294, 250, 3)\n",
      "head_ct\\117.png  dimensions =  (296, 258, 3)\n",
      "head_ct\\118.png  dimensions =  (299, 261, 3)\n",
      "head_ct\\119.png  dimensions =  (287, 253, 3)\n",
      "head_ct\\120.png  dimensions =  (281, 237, 3)\n",
      "head_ct\\121.png  dimensions =  (287, 248, 3)\n",
      "head_ct\\122.png  dimensions =  (290, 262, 3)\n",
      "head_ct\\123.png  dimensions =  (290, 250, 3)\n",
      "head_ct\\124.png  dimensions =  (267, 237, 3)\n",
      "head_ct\\125.png  dimensions =  (271, 249, 3)\n",
      "head_ct\\126.png  dimensions =  (298, 281, 3)\n",
      "head_ct\\127.png  dimensions =  (291, 261, 3)\n",
      "head_ct\\128.png  dimensions =  (284, 245, 3)\n",
      "head_ct\\129.png  dimensions =  (468, 361, 3)\n",
      "head_ct\\130.png  dimensions =  (451, 343, 3)\n",
      "head_ct\\131.png  dimensions =  (454, 363, 3)\n",
      "head_ct\\132.png  dimensions =  (450, 344, 3)\n",
      "head_ct\\133.png  dimensions =  (513, 413, 3)\n",
      "head_ct\\134.png  dimensions =  (520, 420, 3)\n",
      "head_ct\\135.png  dimensions =  (530, 413, 3)\n",
      "head_ct\\136.png  dimensions =  (512, 410, 3)\n",
      "head_ct\\137.png  dimensions =  (521, 425, 3)\n",
      "head_ct\\138.png  dimensions =  (509, 416, 3)\n",
      "head_ct\\139.png  dimensions =  (464, 324, 3)\n",
      "head_ct\\140.png  dimensions =  (461, 326, 3)\n",
      "head_ct\\141.png  dimensions =  (462, 315, 3)\n",
      "head_ct\\142.png  dimensions =  (426, 311, 3)\n",
      "head_ct\\143.png  dimensions =  (424, 329, 3)\n",
      "head_ct\\144.png  dimensions =  (409, 312, 3)\n",
      "head_ct\\145.png  dimensions =  (301, 243, 3)\n",
      "head_ct\\146.png  dimensions =  (295, 257, 3)\n",
      "head_ct\\147.png  dimensions =  (293, 247, 3)\n",
      "head_ct\\148.png  dimensions =  (308, 252, 3)\n",
      "head_ct\\149.png  dimensions =  (292, 272, 3)\n",
      "head_ct\\150.png  dimensions =  (299, 262, 3)\n",
      "head_ct\\151.png  dimensions =  (241, 183, 3)\n",
      "head_ct\\152.png  dimensions =  (232, 182, 3)\n",
      "head_ct\\153.png  dimensions =  (276, 217, 3)\n",
      "head_ct\\154.png  dimensions =  (263, 222, 3)\n",
      "head_ct\\155.png  dimensions =  (268, 224, 3)\n",
      "head_ct\\156.png  dimensions =  (267, 235, 3)\n",
      "head_ct\\157.png  dimensions =  (265, 230, 3)\n",
      "head_ct\\158.png  dimensions =  (278, 226, 3)\n",
      "head_ct\\159.png  dimensions =  (270, 228, 3)\n",
      "head_ct\\160.png  dimensions =  (252, 230, 3)\n",
      "head_ct\\161.png  dimensions =  (251, 218, 3)\n",
      "head_ct\\162.png  dimensions =  (437, 382, 3)\n",
      "head_ct\\163.png  dimensions =  (436, 358, 3)\n",
      "head_ct\\164.png  dimensions =  (441, 374, 3)\n",
      "head_ct\\165.png  dimensions =  (465, 378, 3)\n",
      "head_ct\\166.png  dimensions =  (464, 387, 3)\n",
      "head_ct\\167.png  dimensions =  (457, 388, 3)\n",
      "head_ct\\168.png  dimensions =  (460, 372, 3)\n",
      "head_ct\\169.png  dimensions =  (456, 375, 3)\n",
      "head_ct\\170.png  dimensions =  (452, 383, 3)\n",
      "head_ct\\171.png  dimensions =  (430, 372, 3)\n",
      "head_ct\\172.png  dimensions =  (422, 363, 3)\n",
      "head_ct\\173.png  dimensions =  (414, 352, 3)\n",
      "head_ct\\174.png  dimensions =  (400, 351, 3)\n",
      "head_ct\\175.png  dimensions =  (361, 327, 3)\n",
      "head_ct\\176.png  dimensions =  (348, 324, 3)\n",
      "head_ct\\177.png  dimensions =  (326, 298, 3)\n",
      "head_ct\\178.png  dimensions =  (582, 470, 3)\n",
      "head_ct\\179.png  dimensions =  (591, 467, 3)\n",
      "head_ct\\180.png  dimensions =  (622, 508, 3)\n",
      "head_ct\\181.png  dimensions =  (392, 301, 3)\n",
      "head_ct\\182.png  dimensions =  (630, 483, 3)\n",
      "head_ct\\183.png  dimensions =  (629, 500, 3)\n",
      "head_ct\\184.png  dimensions =  (323, 255, 3)\n",
      "head_ct\\185.png  dimensions =  (325, 252, 3)\n"
     ]
    },
    {
     "name": "stdout",
     "output_type": "stream",
     "text": [
      "head_ct\\186.png  dimensions =  (305, 253, 3)\n",
      "head_ct\\187.png  dimensions =  (308, 251, 3)\n",
      "head_ct\\188.png  dimensions =  (251, 201, 3)\n",
      "head_ct\\189.png  dimensions =  (251, 201, 3)\n",
      "head_ct\\190.png  dimensions =  (251, 201, 3)\n",
      "head_ct\\191.png  dimensions =  (225, 225, 3)\n",
      "head_ct\\192.png  dimensions =  (158, 134, 3)\n",
      "head_ct\\193.png  dimensions =  (225, 225, 3)\n",
      "head_ct\\194.png  dimensions =  (227, 222, 3)\n",
      "head_ct\\195.png  dimensions =  (223, 226, 3)\n",
      "head_ct\\196.png  dimensions =  (199, 190, 3)\n",
      "head_ct\\197.png  dimensions =  (230, 219, 3)\n",
      "head_ct\\198.png  dimensions =  (135, 140, 3)\n",
      "head_ct\\199.png  dimensions =  (220, 229, 3)\n"
     ]
    }
   ],
   "source": [
    "Different_dimensions = []\n",
    "inputfolder = 'head_ct'\n",
    "\n",
    "for i in glob.glob(inputfolder + '/*.png'):\n",
    "    img = cv2.imread(i)\n",
    "    dimensions = img.shape\n",
    "    print(i, ' dimensions = ',dimensions)\n",
    "    if dimensions not in  Different_dimensions:\n",
    "        Different_dimensions.append(dimensions)"
   ]
  },
  {
   "cell_type": "code",
   "execution_count": 5,
   "metadata": {},
   "outputs": [
    {
     "name": "stdout",
     "output_type": "stream",
     "text": [
      "195\n"
     ]
    }
   ],
   "source": [
    "print(len(Different_dimensions))\n",
    "height = []\n",
    "width = []\n",
    "for i in Different_dimensions:\n",
    "    height.append(i[0])\n",
    "    width.append(i[1])"
   ]
  },
  {
   "cell_type": "code",
   "execution_count": 6,
   "metadata": {},
   "outputs": [
    {
     "name": "stdout",
     "output_type": "stream",
     "text": [
      "height max size 957\n",
      "width max size 821\n"
     ]
    }
   ],
   "source": [
    "print('height max size',np.max(height))\n",
    "print('width max size',np.max(width))"
   ]
  },
  {
   "cell_type": "code",
   "execution_count": 7,
   "metadata": {},
   "outputs": [
    {
     "ename": "FileExistsError",
     "evalue": "[WinError 183] No se puede crear un archivo que ya existe: 'head_ct_resized'",
     "output_type": "error",
     "traceback": [
      "\u001b[1;31m---------------------------------------------------------------------------\u001b[0m",
      "\u001b[1;31mFileExistsError\u001b[0m                           Traceback (most recent call last)",
      "\u001b[1;32m<ipython-input-7-2ca762e15326>\u001b[0m in \u001b[0;36m<module>\u001b[1;34m\u001b[0m\n\u001b[0;32m      1\u001b[0m \u001b[0minputfolder\u001b[0m \u001b[1;33m=\u001b[0m \u001b[1;34m'head_ct'\u001b[0m\u001b[1;33m\u001b[0m\u001b[1;33m\u001b[0m\u001b[0m\n\u001b[1;32m----> 2\u001b[1;33m \u001b[0mos\u001b[0m\u001b[1;33m.\u001b[0m\u001b[0mmkdir\u001b[0m\u001b[1;33m(\u001b[0m\u001b[1;34m'head_ct_resized'\u001b[0m\u001b[1;33m)\u001b[0m\u001b[1;33m\u001b[0m\u001b[1;33m\u001b[0m\u001b[0m\n\u001b[0m\u001b[0;32m      3\u001b[0m \u001b[0mj\u001b[0m \u001b[1;33m=\u001b[0m \u001b[1;36m0\u001b[0m\u001b[1;33m\u001b[0m\u001b[1;33m\u001b[0m\u001b[0m\n\u001b[0;32m      4\u001b[0m \u001b[1;33m\u001b[0m\u001b[0m\n\u001b[0;32m      5\u001b[0m \u001b[1;32mfor\u001b[0m \u001b[0mi\u001b[0m \u001b[1;32min\u001b[0m \u001b[0mglob\u001b[0m\u001b[1;33m.\u001b[0m\u001b[0mglob\u001b[0m\u001b[1;33m(\u001b[0m\u001b[0minputfolder\u001b[0m \u001b[1;33m+\u001b[0m \u001b[1;34m'/*.png'\u001b[0m\u001b[1;33m)\u001b[0m\u001b[1;33m:\u001b[0m\u001b[1;33m\u001b[0m\u001b[1;33m\u001b[0m\u001b[0m\n",
      "\u001b[1;31mFileExistsError\u001b[0m: [WinError 183] No se puede crear un archivo que ya existe: 'head_ct_resized'"
     ]
    }
   ],
   "source": [
    "inputfolder = 'head_ct'\n",
    "os.mkdir('head_ct_resized')\n",
    "j = 0\n",
    "\n",
    "for i in glob.glob(inputfolder + '/*.png'):\n",
    "    img = cv2.imread(i)\n",
    "    img_resized = cv2.resize(img, (957,821), interpolation = cv2.INTER_AREA)\n",
    "    cv2.imwrite(r\"C:\\Users\\riul0\\Desktop\\Uni\\1) MEDICAL IMAGE ANALYSIS\\LAB4\\head_ct_resized/\"+str(j)+'.png', \n",
    "                img_resized)\n",
    "    j += 1\n",
    "    cv2.waitKey(30)\n",
    "cv2.destroyAllWindows()"
   ]
  },
  {
   "cell_type": "code",
   "execution_count": null,
   "metadata": {},
   "outputs": [],
   "source": [
    "inputfolder = 'head_ct_resized'\n",
    "\n",
    "for i in glob.glob(inputfolder + '/*.png'):\n",
    "    img = cv2.imread(i)\n",
    "    dimensions = img.shape\n",
    "    print(i, ' dimensions = ',dimensions)"
   ]
  },
  {
   "cell_type": "code",
   "execution_count": null,
   "metadata": {},
   "outputs": [],
   "source": [
    "from numpy import asarray\n",
    "from PIL import Image"
   ]
  },
  {
   "cell_type": "code",
   "execution_count": null,
   "metadata": {},
   "outputs": [],
   "source": [
    "inputfolder = 'head_ct_resized'\n",
    "\n",
    "for i in glob.glob(inputfolder + '/*.png'):\n",
    "    image = Image.open(i)\n",
    "    pixels = asarray(image)\n",
    "    print(i, ' Max value pixel  = ',pixels.max(), ' and minimun = ', pixels.min())\n",
    "    pixels = pixels.astype('float32')\n",
    "    pixels /= 255.0\n",
    "    print(i, ' Max value pixel  = ',pixels.max(), ' and minimun = ', pixels.min())"
   ]
  },
  {
   "cell_type": "markdown",
   "metadata": {},
   "source": [
    "# Images example"
   ]
  },
  {
   "cell_type": "code",
   "execution_count": 8,
   "metadata": {},
   "outputs": [
    {
     "name": "stdout",
     "output_type": "stream",
     "text": [
      "['0.png', '1.png', '10.png', '100.png', '101.png', '102.png', '103.png', '104.png', '105.png', '106.png', '107.png', '108.png', '109.png', '11.png', '110.png', '111.png', '112.png', '113.png', '114.png', '115.png', '116.png', '117.png', '118.png', '119.png', '12.png', '120.png', '121.png', '122.png', '123.png', '124.png', '125.png', '126.png', '127.png', '128.png', '129.png', '13.png', '130.png', '131.png', '132.png', '133.png', '134.png', '135.png', '136.png', '137.png', '138.png', '139.png', '14.png', '140.png', '141.png', '142.png', '143.png', '144.png', '145.png', '146.png', '147.png', '148.png', '149.png', '15.png', '150.png', '151.png', '152.png', '153.png', '154.png', '155.png', '156.png', '157.png', '158.png', '159.png', '16.png', '160.png', '161.png', '162.png', '163.png', '164.png', '165.png', '166.png', '167.png', '168.png', '169.png', '17.png', '170.png', '171.png', '172.png', '173.png', '174.png', '175.png', '176.png', '177.png', '178.png', '179.png', '18.png', '180.png', '181.png', '182.png', '183.png', '184.png', '185.png', '186.png', '187.png', '188.png', '189.png', '19.png', '190.png', '191.png', '192.png', '193.png', '194.png', '195.png', '196.png', '197.png', '198.png', '199.png', '2.png', '20.png', '21.png', '22.png', '23.png', '24.png', '25.png', '26.png', '27.png', '28.png', '29.png', '3.png', '30.png', '31.png', '32.png', '33.png', '34.png', '35.png', '36.png', '37.png', '38.png', '39.png', '4.png', '40.png', '41.png', '42.png', '43.png', '44.png', '45.png', '46.png', '47.png', '48.png', '49.png', '5.png', '50.png', '51.png', '52.png', '53.png', '54.png', '55.png', '56.png', '57.png', '58.png', '59.png', '6.png', '60.png', '61.png', '62.png', '63.png', '64.png', '65.png', '66.png', '67.png', '68.png', '69.png', '7.png', '70.png', '71.png', '72.png', '73.png', '74.png', '75.png', '76.png', '77.png', '78.png', '79.png', '8.png', '80.png', '81.png', '82.png', '83.png', '84.png', '85.png', '86.png', '87.png', '88.png', '89.png', '9.png', '90.png', '91.png', '92.png', '93.png', '94.png', '95.png', '96.png', '97.png', '98.png', '99.png']\n"
     ]
    }
   ],
   "source": [
    "actual_file = r'C:\\Users\\riul0\\Desktop\\Uni\\1) MEDICAL IMAGE ANALYSIS\\LAB4\\head_ct_resized'\n",
    "files_in_path = os.listdir(actual_file)\n",
    "print(files_in_path)"
   ]
  },
  {
   "cell_type": "code",
   "execution_count": 9,
   "metadata": {},
   "outputs": [
    {
     "data": {
      "image/png": "[encoded data removed]",
      "text/plain": [
       "<Figure size 432x288 with 1 Axes>"
      ]
     },
     "metadata": {
      "needs_background": "light"
     },
     "output_type": "display_data"
    }
   ],
   "source": [
    "img = cv2.imread(os.path.join('head_ct_resized','160.png'))\n",
    "plt.imshow(img,cmap ='gray')\n",
    "plt.show()"
   ]
  },
  {
   "cell_type": "markdown",
   "metadata": {},
   "source": [
    "# Convolutional Neural Network"
   ]
  },
  {
   "cell_type": "code",
   "execution_count": 10,
   "metadata": {},
   "outputs": [],
   "source": [
    "%load_ext tensorboard\n",
    "from __future__ import absolute_import, division, print_function, unicode_literals\n",
    "\n",
    "# Install TensorFlow\n",
    "try:\n",
    "  # %tensorflow_version only exists in Colab.\n",
    "  %tensorflow_version 2.x\n",
    "except Exception:\n",
    "    pass\n",
    "\n",
    "import tensorflow as tf\n",
    "from tensorflow import keras\n",
    "import matplotlib.pyplot as plt\n",
    "from datetime import datetime\n",
    "import numpy as np\n",
    "import random"
   ]
  },
  {
   "cell_type": "markdown",
   "metadata": {},
   "source": [
    "First we set the directories that will be used "
   ]
  },
  {
   "cell_type": "code",
   "execution_count": 11,
   "metadata": {},
   "outputs": [
    {
     "name": "stdout",
     "output_type": "stream",
     "text": [
      "You are here:  C:\\Users\\riul0\\Desktop\\Uni\\1) MEDICAL IMAGE ANALYSIS\\LAB4\n"
     ]
    }
   ],
   "source": [
    "# Setting the paths to the train, validate, and test folders:\n",
    "ROOT=os.path.join(os.getcwd()) # this one must exist beforehand\n",
    "train_path = os.path.join(ROOT,\"train\")\n",
    "test_path = os.path.join(ROOT,\"test\")\n",
    "valid_path = os.path.join(ROOT,\"valid\")\n",
    "print('You are here: ', ROOT)"
   ]
  },
  {
   "cell_type": "code",
   "execution_count": 12,
   "metadata": {},
   "outputs": [
    {
     "name": "stdout",
     "output_type": "stream",
     "text": [
      "100\n",
      "75 15 15\n",
      "Sorted into sets!\n"
     ]
    }
   ],
   "source": [
    "import shutil\n",
    "\n",
    "train_perc= 0.75  # Percentiles of the sets \n",
    "test_perc= 0.15\n",
    "valid_perc= 0.15\n",
    "total_data_size= len(os.listdir(os.path.join(ROOT,'hemo')))\n",
    "print(total_data_size)\n",
    "\n",
    " \n",
    "\n",
    "# Organize data into train, valid, test directories\n",
    "os.chdir(os.path.join(ROOT))\n",
    "#if os.path.isdir('train/normal') is False: # check just one of them\n",
    "shutil.rmtree(os.path.join('train/normal'))\n",
    "os.makedirs('train/normal')\n",
    "shutil.rmtree(os.path.join('train/hemo'))\n",
    "os.makedirs('train/hemo')\n",
    "shutil.rmtree(os.path.join(ROOT,'valid/normal'))\n",
    "os.makedirs('valid/normal')\n",
    "shutil.rmtree(os.path.join(ROOT,'valid/hemo'))\n",
    "os.makedirs('valid/hemo')\n",
    "shutil.rmtree(os.path.join(ROOT,'test/normal'))\n",
    "os.makedirs('test/normal')\n",
    "shutil.rmtree(os.path.join(ROOT,'test/hemo'))\n",
    "os.makedirs('test/hemo')\n",
    "\n",
    " \n",
    "\n",
    "train_number= round(train_perc*total_data_size)\n",
    "test_number= round(test_perc*total_data_size)\n",
    "valid_number= round(valid_perc*total_data_size)\n",
    "print(train_number, test_number, valid_number)\n",
    "\n",
    " \n",
    "\n",
    "for i in random.sample(glob.glob('hemo/*.png'), train_number):\n",
    "    shutil.copy(i, 'train/hemo')    \n",
    "for i in random.sample(glob.glob('healthy/*.png'), train_number):\n",
    "    shutil.copy(i, 'train/normal')\n",
    "for i in random.sample(glob.glob('hemo/*.png'), valid_number):\n",
    "    shutil.copy(i, 'valid/hemo')        \n",
    "for i in random.sample(glob.glob('healthy/*.png'), valid_number):\n",
    "    shutil.copy(i, 'valid/normal')\n",
    "for i in random.sample(glob.glob('hemo/*.png'), test_number):\n",
    "    shutil.copy(i, 'test/hemo')      \n",
    "for i in random.sample(glob.glob('healthy/*.png'), test_number):\n",
    "    shutil.copy(i, 'test/normal')\n",
    "print('Sorted into sets!')\n",
    "\n",
    " \n",
    "os.chdir(ROOT) # two dirs up"
   ]
  },
  {
   "cell_type": "code",
   "execution_count": 13,
   "metadata": {},
   "outputs": [
    {
     "name": "stdout",
     "output_type": "stream",
     "text": [
      "Found 150 images belonging to 2 classes.\n",
      "Found 30 images belonging to 2 classes.\n",
      "Found 30 images belonging to 2 classes.\n"
     ]
    }
   ],
   "source": [
    "size_defined = (957,821) # Maximuns sizes defined in preprocessing part\n",
    "from tensorflow.keras.preprocessing.image import ImageDataGenerator\n",
    "\n",
    "# Creating train, test and valid batches from the respective directories\n",
    "train_batches = ImageDataGenerator().flow_from_directory(directory=train_path, target_size=size_defined, classes=['hemo','normal'], batch_size=10)\n",
    "valid_batches = ImageDataGenerator().flow_from_directory(directory=valid_path, target_size=size_defined, classes=['hemo', 'normal'], batch_size=10)\n",
    "test_batches = ImageDataGenerator().flow_from_directory(directory=test_path, target_size=size_defined, classes=['hemo', 'normal'], batch_size=10, shuffle=False)"
   ]
  },
  {
   "cell_type": "code",
   "execution_count": 14,
   "metadata": {},
   "outputs": [],
   "source": [
    "from tensorflow import keras\n",
    "from tensorflow.keras.models import Sequential\n",
    "from tensorflow.keras.layers import Activation, Dense, Flatten, BatchNormalization, Conv2D, MaxPool2D\n",
    "from tensorflow.keras.optimizers import Adam\n",
    "from tensorflow.keras.metrics import categorical_crossentropy"
   ]
  },
  {
   "cell_type": "code",
   "execution_count": 15,
   "metadata": {},
   "outputs": [
    {
     "name": "stdout",
     "output_type": "stream",
     "text": [
      "Model: \"sequential\"\n",
      "_________________________________________________________________\n",
      "Layer (type)                 Output Shape              Param #   \n",
      "=================================================================\n",
      "conv2d (Conv2D)              (None, 957, 821, 32)      896       \n",
      "_________________________________________________________________\n",
      "max_pooling2d (MaxPooling2D) (None, 478, 410, 32)      0         \n",
      "_________________________________________________________________\n",
      "conv2d_1 (Conv2D)            (None, 478, 410, 64)      18496     \n",
      "_________________________________________________________________\n",
      "max_pooling2d_1 (MaxPooling2 (None, 239, 205, 64)      0         \n",
      "_________________________________________________________________\n",
      "flatten (Flatten)            (None, 3135680)           0         \n",
      "_________________________________________________________________\n",
      "dense (Dense)                (None, 2)                 6271362   \n",
      "=================================================================\n",
      "Total params: 6,290,754\n",
      "Trainable params: 6,290,754\n",
      "Non-trainable params: 0\n",
      "_________________________________________________________________\n"
     ]
    }
   ],
   "source": [
    "# Creation of our CNN\n",
    "model = Sequential([\n",
    "    Conv2D(filters=32, kernel_size=(3, 3), activation='relu', padding = 'same', input_shape=(size_defined[0],size_defined[1],3)),\n",
    "    MaxPool2D(pool_size=(2, 2), strides=2),\n",
    "    Conv2D(filters=64, kernel_size=(3, 3), activation='relu', padding = 'same'),\n",
    "    MaxPool2D(pool_size=(2, 2), strides=2),\n",
    "    Flatten(),\n",
    "    Dense(units=2, activation='softmax') # 2 classes for classification \n",
    "])\n",
    "\n",
    "# Conv2D = convolution step\n",
    " \n",
    "model.summary()"
   ]
  },
  {
   "cell_type": "code",
   "execution_count": 16,
   "metadata": {},
   "outputs": [
    {
     "name": "stdout",
     "output_type": "stream",
     "text": [
      "Epoch 1/10\n",
      "15/15 [==============================] - 158s 11s/step - loss: 1134.1445 - accuracy: 0.4733 - val_loss: 244.3698 - val_accuracy: 0.6000\n",
      "Epoch 2/10\n",
      "15/15 [==============================] - 150s 10s/step - loss: 691.6532 - accuracy: 0.5733 - val_loss: 527.7380 - val_accuracy: 0.5333\n",
      "Epoch 3/10\n",
      "15/15 [==============================] - 128s 9s/step - loss: 156.1213 - accuracy: 0.7200 - val_loss: 125.8675 - val_accuracy: 0.7000\n",
      "Epoch 4/10\n",
      "15/15 [==============================] - 125s 8s/step - loss: 36.0009 - accuracy: 0.8667 - val_loss: 34.3124 - val_accuracy: 0.7667\n",
      "Epoch 5/10\n",
      "15/15 [==============================] - 134s 9s/step - loss: 14.3367 - accuracy: 0.9000 - val_loss: 8.7191 - val_accuracy: 0.8667\n",
      "Epoch 6/10\n",
      "15/15 [==============================] - 130s 9s/step - loss: 2.4104 - accuracy: 0.9467 - val_loss: 1.9719 - val_accuracy: 0.9667\n",
      "Epoch 7/10\n",
      "15/15 [==============================] - 119s 8s/step - loss: 0.5982 - accuracy: 0.9800 - val_loss: 1.3574 - val_accuracy: 0.9667\n",
      "Epoch 8/10\n",
      "15/15 [==============================] - 128s 9s/step - loss: 0.5080 - accuracy: 0.9867 - val_loss: 3.9777 - val_accuracy: 0.9333\n",
      "Epoch 9/10\n",
      "15/15 [==============================] - 123s 8s/step - loss: 0.4099 - accuracy: 0.9933 - val_loss: 1.7609 - val_accuracy: 0.9667\n",
      "Epoch 10/10\n",
      "15/15 [==============================] - 120s 8s/step - loss: 0.0000e+00 - accuracy: 1.0000 - val_loss: 0.7464 - val_accuracy: 0.9667\n"
     ]
    },
    {
     "data": {
      "text/plain": [
       "<tensorflow.python.keras.callbacks.History at 0x2636822d580>"
      ]
     },
     "execution_count": 16,
     "metadata": {},
     "output_type": "execute_result"
    }
   ],
   "source": [
    "# Preparing the model for training\n",
    "model.compile(optimizer=Adam(learning_rate=0.0001), \n",
    "              loss='categorical_crossentropy', metrics=['accuracy'])\n",
    "\n",
    "# Training and validating the model\n",
    "# recall that we set batch_size = 10 during preprocessing\n",
    "batch_size = 10 \n",
    "\n",
    "model.fit(\n",
    "    x = train_batches, \n",
    "    steps_per_epoch=train_batches.samples // batch_size, \n",
    "    epochs=10, \n",
    "    validation_data=valid_batches, \n",
    "    validation_steps=valid_batches.samples // batch_size,\n",
    "    verbose=1)"
   ]
  },
  {
   "cell_type": "markdown",
   "metadata": {},
   "source": [
    "We think that there is presence of overfiting from the seventh epoch onwards. Despite the training accuracy is increasing each time, the validation one stops in the epoch mentioned before. This means that the CNN might be adjusted too much to the taining set. For this reason the network will not geralize well for new images.\n",
    "\n",
    "So we conclude that we may have to reduce the number of epochs and even play with the learning rate as we will do in the next examples."
   ]
  },
  {
   "cell_type": "code",
   "execution_count": 17,
   "metadata": {},
   "outputs": [
    {
     "name": "stdout",
     "output_type": "stream",
     "text": [
      "Epoch 1/6\n",
      "15/15 [==============================] - 120s 8s/step - loss: 703.4860 - accuracy: 0.5400 - val_loss: 272.6852 - val_accuracy: 0.6000\n",
      "Epoch 2/6\n",
      "15/15 [==============================] - 119s 8s/step - loss: 132.6565 - accuracy: 0.6933 - val_loss: 82.7513 - val_accuracy: 0.7667\n",
      "Epoch 3/6\n",
      "15/15 [==============================] - 121s 8s/step - loss: 33.0638 - accuracy: 0.8467 - val_loss: 26.2213 - val_accuracy: 0.9000\n",
      "Epoch 4/6\n",
      "15/15 [==============================] - 125s 8s/step - loss: 20.1639 - accuracy: 0.9133 - val_loss: 9.1894 - val_accuracy: 0.8667\n",
      "Epoch 5/6\n",
      "15/15 [==============================] - 119s 8s/step - loss: 11.6213 - accuracy: 0.9067 - val_loss: 31.6422 - val_accuracy: 0.8667\n",
      "Epoch 6/6\n",
      "15/15 [==============================] - 120s 8s/step - loss: 9.4747 - accuracy: 0.9333 - val_loss: 20.9747 - val_accuracy: 0.8333\n"
     ]
    },
    {
     "data": {
      "text/plain": [
       "<tensorflow.python.keras.callbacks.History at 0x2636b0cda30>"
      ]
     },
     "execution_count": 17,
     "metadata": {},
     "output_type": "execute_result"
    }
   ],
   "source": [
    "model = Sequential([\n",
    "    Conv2D(filters=32, kernel_size=(3, 3), activation='relu', padding = 'same', input_shape=(size_defined[0],size_defined[1],3)),\n",
    "    MaxPool2D(pool_size=(2, 2), strides=2),\n",
    "    Conv2D(filters=64, kernel_size=(3, 3), activation='relu', padding = 'same'),\n",
    "    MaxPool2D(pool_size=(2, 2), strides=2),\n",
    "    Flatten(),\n",
    "    Dense(units=2, activation='softmax') # 2 classes for classification \n",
    "])\n",
    "\n",
    "model.compile(optimizer=Adam(learning_rate=0.0001), \n",
    "              loss='categorical_crossentropy', metrics=['accuracy'])\n",
    "\n",
    "batch_size = 10 \n",
    "model.fit(\n",
    "    x = train_batches, \n",
    "    steps_per_epoch=train_batches.samples // batch_size, \n",
    "    epochs=6, \n",
    "    validation_data=valid_batches, \n",
    "    validation_steps=valid_batches.samples // batch_size,\n",
    "    verbose=1)"
   ]
  },
  {
   "cell_type": "code",
   "execution_count": 18,
   "metadata": {},
   "outputs": [
    {
     "name": "stdout",
     "output_type": "stream",
     "text": [
      "Epoch 1/2\n",
      "15/15 [==============================] - 130s 9s/step - loss: 675.1860 - accuracy: 0.5800 - val_loss: 132.9338 - val_accuracy: 0.5667\n",
      "Epoch 2/2\n",
      "15/15 [==============================] - 119s 8s/step - loss: 115.9962 - accuracy: 0.6933 - val_loss: 39.1063 - val_accuracy: 0.8333\n"
     ]
    },
    {
     "data": {
      "text/plain": [
       "<tensorflow.python.keras.callbacks.History at 0x2636fb408e0>"
      ]
     },
     "execution_count": 18,
     "metadata": {},
     "output_type": "execute_result"
    }
   ],
   "source": [
    "model = Sequential([\n",
    "    Conv2D(filters=32, kernel_size=(3, 3), activation='relu', padding = 'same', input_shape=(size_defined[0],size_defined[1],3)),\n",
    "    MaxPool2D(pool_size=(2, 2), strides=2),\n",
    "    Conv2D(filters=64, kernel_size=(3, 3), activation='relu', padding = 'same'),\n",
    "    MaxPool2D(pool_size=(2, 2), strides=2),\n",
    "    Flatten(),\n",
    "    Dense(units=2, activation='softmax') # 2 classes for classification \n",
    "])\n",
    "\n",
    "model.compile(optimizer=Adam(learning_rate=0.0001), \n",
    "              loss='categorical_crossentropy', metrics=['accuracy'])\n",
    "\n",
    "batch_size = 10 \n",
    "model.fit(\n",
    "    x = train_batches, \n",
    "    steps_per_epoch=train_batches.samples // batch_size, \n",
    "    epochs=2, \n",
    "    validation_data=valid_batches, \n",
    "    validation_steps=valid_batches.samples // batch_size,\n",
    "    verbose=1)"
   ]
  },
  {
   "cell_type": "code",
   "execution_count": 19,
   "metadata": {
    "scrolled": true
   },
   "outputs": [
    {
     "name": "stdout",
     "output_type": "stream",
     "text": [
      "Epoch 1/5\n",
      "15/15 [==============================] - 120s 8s/step - loss: 15149783.0000 - accuracy: 0.4933 - val_loss: 369.0423 - val_accuracy: 0.5000\n",
      "Epoch 2/5\n",
      "15/15 [==============================] - 124s 8s/step - loss: 3436.8408 - accuracy: 0.4600 - val_loss: 2546.1611 - val_accuracy: 0.5000\n",
      "Epoch 3/5\n",
      "15/15 [==============================] - 118s 8s/step - loss: 4604.3921 - accuracy: 0.5267 - val_loss: 5107.9106 - val_accuracy: 0.5000\n",
      "Epoch 4/5\n",
      "15/15 [==============================] - 115s 8s/step - loss: 5395.7041 - accuracy: 0.4867 - val_loss: 831.9404 - val_accuracy: 0.5000\n",
      "Epoch 5/5\n",
      "15/15 [==============================] - 116s 8s/step - loss: 4117.1753 - accuracy: 0.4333 - val_loss: 6934.3950 - val_accuracy: 0.5000\n"
     ]
    },
    {
     "data": {
      "text/plain": [
       "<tensorflow.python.keras.callbacks.History at 0x2636ff3a7f0>"
      ]
     },
     "execution_count": 19,
     "metadata": {},
     "output_type": "execute_result"
    }
   ],
   "source": [
    "model = Sequential([\n",
    "    Conv2D(filters=32, kernel_size=(3, 3), activation='relu', padding = 'same', input_shape=(size_defined[0],size_defined[1],3)),\n",
    "    MaxPool2D(pool_size=(2, 2), strides=2),\n",
    "    Conv2D(filters=64, kernel_size=(3, 3), activation='relu', padding = 'same'),\n",
    "    MaxPool2D(pool_size=(2, 2), strides=2),\n",
    "    Flatten(),\n",
    "    Dense(units=2, activation='softmax') # 2 classes for classification \n",
    "])\n",
    "\n",
    "model.compile(optimizer=Adam(learning_rate=0.1), \n",
    "              loss='categorical_crossentropy', metrics=['accuracy'])\n",
    "batch_size = 10 \n",
    "model.fit(\n",
    "    x = train_batches, \n",
    "    steps_per_epoch=train_batches.samples // batch_size, \n",
    "    epochs=5, \n",
    "    validation_data=valid_batches, \n",
    "    validation_steps=valid_batches.samples // batch_size,\n",
    "    verbose=1)"
   ]
  },
  {
   "cell_type": "code",
   "execution_count": 20,
   "metadata": {},
   "outputs": [
    {
     "name": "stdout",
     "output_type": "stream",
     "text": [
      "Epoch 1/5\n",
      "15/15 [==============================] - 124s 8s/step - loss: 87422.5859 - accuracy: 0.4467 - val_loss: 0.6199 - val_accuracy: 0.6333\n",
      "Epoch 2/5\n",
      "15/15 [==============================] - 118s 8s/step - loss: 1.2405 - accuracy: 0.5800 - val_loss: 0.6785 - val_accuracy: 0.5000\n",
      "Epoch 3/5\n",
      "15/15 [==============================] - 131s 9s/step - loss: 0.6819 - accuracy: 0.5333 - val_loss: 0.6473 - val_accuracy: 0.5667\n",
      "Epoch 4/5\n",
      "15/15 [==============================] - 120s 8s/step - loss: 0.6240 - accuracy: 0.5800 - val_loss: 0.5562 - val_accuracy: 0.6667\n",
      "Epoch 5/5\n",
      "15/15 [==============================] - 126s 8s/step - loss: 0.5463 - accuracy: 0.6867 - val_loss: 0.5143 - val_accuracy: 0.7000\n"
     ]
    },
    {
     "data": {
      "text/plain": [
       "<tensorflow.python.keras.callbacks.History at 0x26379cb5610>"
      ]
     },
     "execution_count": 20,
     "metadata": {},
     "output_type": "execute_result"
    }
   ],
   "source": [
    "model = Sequential([\n",
    "    Conv2D(filters=32, kernel_size=(3, 3), activation='relu', padding = 'same', input_shape=(size_defined[0],size_defined[1],3)),\n",
    "    MaxPool2D(pool_size=(2, 2), strides=2),\n",
    "    Conv2D(filters=64, kernel_size=(3, 3), activation='relu', padding = 'same'),\n",
    "    MaxPool2D(pool_size=(2, 2), strides=2),\n",
    "    Flatten(),\n",
    "    Dense(units=2, activation='softmax') # 2 classes for classification \n",
    "])\n",
    "\n",
    "model.compile(optimizer=Adam(learning_rate=0.01), \n",
    "              loss='categorical_crossentropy', metrics=['accuracy'])\n",
    "batch_size = 10 \n",
    "model.fit(\n",
    "    x = train_batches, \n",
    "    steps_per_epoch=train_batches.samples // batch_size, \n",
    "    epochs=5, \n",
    "    validation_data=valid_batches, \n",
    "    validation_steps=valid_batches.samples // batch_size,\n",
    "    verbose=1)"
   ]
  },
  {
   "cell_type": "code",
   "execution_count": 21,
   "metadata": {},
   "outputs": [
    {
     "name": "stdout",
     "output_type": "stream",
     "text": [
      "Epoch 1/5\n",
      "15/15 [==============================] - 134s 9s/step - loss: 4929.3965 - accuracy: 0.5000 - val_loss: 5.8390 - val_accuracy: 0.6667\n",
      "Epoch 2/5\n",
      "15/15 [==============================] - 127s 8s/step - loss: 7.0668 - accuracy: 0.6867 - val_loss: 3.5293 - val_accuracy: 0.7333\n",
      "Epoch 3/5\n",
      " 3/15 [=====>........................] - ETA: 1:09 - loss: 1.0405 - accuracy: 0.7667"
     ]
    },
    {
     "ename": "KeyboardInterrupt",
     "evalue": "",
     "output_type": "error",
     "traceback": [
      "\u001b[1;31m---------------------------------------------------------------------------\u001b[0m",
      "\u001b[1;31mKeyboardInterrupt\u001b[0m                         Traceback (most recent call last)",
      "\u001b[1;32m<ipython-input-21-75cd4fa01d2c>\u001b[0m in \u001b[0;36m<module>\u001b[1;34m\u001b[0m\n\u001b[0;32m     11\u001b[0m               loss='categorical_crossentropy', metrics=['accuracy'])\n\u001b[0;32m     12\u001b[0m \u001b[0mbatch_size\u001b[0m \u001b[1;33m=\u001b[0m \u001b[1;36m10\u001b[0m\u001b[1;33m\u001b[0m\u001b[1;33m\u001b[0m\u001b[0m\n\u001b[1;32m---> 13\u001b[1;33m model.fit(\n\u001b[0m\u001b[0;32m     14\u001b[0m     \u001b[0mx\u001b[0m \u001b[1;33m=\u001b[0m \u001b[0mtrain_batches\u001b[0m\u001b[1;33m,\u001b[0m\u001b[1;33m\u001b[0m\u001b[1;33m\u001b[0m\u001b[0m\n\u001b[0;32m     15\u001b[0m     \u001b[0msteps_per_epoch\u001b[0m\u001b[1;33m=\u001b[0m\u001b[0mtrain_batches\u001b[0m\u001b[1;33m.\u001b[0m\u001b[0msamples\u001b[0m \u001b[1;33m//\u001b[0m \u001b[0mbatch_size\u001b[0m\u001b[1;33m,\u001b[0m\u001b[1;33m\u001b[0m\u001b[1;33m\u001b[0m\u001b[0m\n",
      "\u001b[1;32m~\\anaconda3\\lib\\site-packages\\tensorflow\\python\\keras\\engine\\training.py\u001b[0m in \u001b[0;36m_method_wrapper\u001b[1;34m(self, *args, **kwargs)\u001b[0m\n\u001b[0;32m    106\u001b[0m   \u001b[1;32mdef\u001b[0m \u001b[0m_method_wrapper\u001b[0m\u001b[1;33m(\u001b[0m\u001b[0mself\u001b[0m\u001b[1;33m,\u001b[0m \u001b[1;33m*\u001b[0m\u001b[0margs\u001b[0m\u001b[1;33m,\u001b[0m \u001b[1;33m**\u001b[0m\u001b[0mkwargs\u001b[0m\u001b[1;33m)\u001b[0m\u001b[1;33m:\u001b[0m\u001b[1;33m\u001b[0m\u001b[1;33m\u001b[0m\u001b[0m\n\u001b[0;32m    107\u001b[0m     \u001b[1;32mif\u001b[0m \u001b[1;32mnot\u001b[0m \u001b[0mself\u001b[0m\u001b[1;33m.\u001b[0m\u001b[0m_in_multi_worker_mode\u001b[0m\u001b[1;33m(\u001b[0m\u001b[1;33m)\u001b[0m\u001b[1;33m:\u001b[0m  \u001b[1;31m# pylint: disable=protected-access\u001b[0m\u001b[1;33m\u001b[0m\u001b[1;33m\u001b[0m\u001b[0m\n\u001b[1;32m--> 108\u001b[1;33m       \u001b[1;32mreturn\u001b[0m \u001b[0mmethod\u001b[0m\u001b[1;33m(\u001b[0m\u001b[0mself\u001b[0m\u001b[1;33m,\u001b[0m \u001b[1;33m*\u001b[0m\u001b[0margs\u001b[0m\u001b[1;33m,\u001b[0m \u001b[1;33m**\u001b[0m\u001b[0mkwargs\u001b[0m\u001b[1;33m)\u001b[0m\u001b[1;33m\u001b[0m\u001b[1;33m\u001b[0m\u001b[0m\n\u001b[0m\u001b[0;32m    109\u001b[0m \u001b[1;33m\u001b[0m\u001b[0m\n\u001b[0;32m    110\u001b[0m     \u001b[1;31m# Running inside `run_distribute_coordinator` already.\u001b[0m\u001b[1;33m\u001b[0m\u001b[1;33m\u001b[0m\u001b[1;33m\u001b[0m\u001b[0m\n",
      "\u001b[1;32m~\\anaconda3\\lib\\site-packages\\tensorflow\\python\\keras\\engine\\training.py\u001b[0m in \u001b[0;36mfit\u001b[1;34m(self, x, y, batch_size, epochs, verbose, callbacks, validation_split, validation_data, shuffle, class_weight, sample_weight, initial_epoch, steps_per_epoch, validation_steps, validation_batch_size, validation_freq, max_queue_size, workers, use_multiprocessing)\u001b[0m\n\u001b[0;32m   1096\u001b[0m                 batch_size=batch_size):\n\u001b[0;32m   1097\u001b[0m               \u001b[0mcallbacks\u001b[0m\u001b[1;33m.\u001b[0m\u001b[0mon_train_batch_begin\u001b[0m\u001b[1;33m(\u001b[0m\u001b[0mstep\u001b[0m\u001b[1;33m)\u001b[0m\u001b[1;33m\u001b[0m\u001b[1;33m\u001b[0m\u001b[0m\n\u001b[1;32m-> 1098\u001b[1;33m               \u001b[0mtmp_logs\u001b[0m \u001b[1;33m=\u001b[0m \u001b[0mtrain_function\u001b[0m\u001b[1;33m(\u001b[0m\u001b[0miterator\u001b[0m\u001b[1;33m)\u001b[0m\u001b[1;33m\u001b[0m\u001b[1;33m\u001b[0m\u001b[0m\n\u001b[0m\u001b[0;32m   1099\u001b[0m               \u001b[1;32mif\u001b[0m \u001b[0mdata_handler\u001b[0m\u001b[1;33m.\u001b[0m\u001b[0mshould_sync\u001b[0m\u001b[1;33m:\u001b[0m\u001b[1;33m\u001b[0m\u001b[1;33m\u001b[0m\u001b[0m\n\u001b[0;32m   1100\u001b[0m                 \u001b[0mcontext\u001b[0m\u001b[1;33m.\u001b[0m\u001b[0masync_wait\u001b[0m\u001b[1;33m(\u001b[0m\u001b[1;33m)\u001b[0m\u001b[1;33m\u001b[0m\u001b[1;33m\u001b[0m\u001b[0m\n",
      "\u001b[1;32m~\\anaconda3\\lib\\site-packages\\tensorflow\\python\\eager\\def_function.py\u001b[0m in \u001b[0;36m__call__\u001b[1;34m(self, *args, **kwds)\u001b[0m\n\u001b[0;32m    778\u001b[0m       \u001b[1;32melse\u001b[0m\u001b[1;33m:\u001b[0m\u001b[1;33m\u001b[0m\u001b[1;33m\u001b[0m\u001b[0m\n\u001b[0;32m    779\u001b[0m         \u001b[0mcompiler\u001b[0m \u001b[1;33m=\u001b[0m \u001b[1;34m\"nonXla\"\u001b[0m\u001b[1;33m\u001b[0m\u001b[1;33m\u001b[0m\u001b[0m\n\u001b[1;32m--> 780\u001b[1;33m         \u001b[0mresult\u001b[0m \u001b[1;33m=\u001b[0m \u001b[0mself\u001b[0m\u001b[1;33m.\u001b[0m\u001b[0m_call\u001b[0m\u001b[1;33m(\u001b[0m\u001b[1;33m*\u001b[0m\u001b[0margs\u001b[0m\u001b[1;33m,\u001b[0m \u001b[1;33m**\u001b[0m\u001b[0mkwds\u001b[0m\u001b[1;33m)\u001b[0m\u001b[1;33m\u001b[0m\u001b[1;33m\u001b[0m\u001b[0m\n\u001b[0m\u001b[0;32m    781\u001b[0m \u001b[1;33m\u001b[0m\u001b[0m\n\u001b[0;32m    782\u001b[0m       \u001b[0mnew_tracing_count\u001b[0m \u001b[1;33m=\u001b[0m \u001b[0mself\u001b[0m\u001b[1;33m.\u001b[0m\u001b[0m_get_tracing_count\u001b[0m\u001b[1;33m(\u001b[0m\u001b[1;33m)\u001b[0m\u001b[1;33m\u001b[0m\u001b[1;33m\u001b[0m\u001b[0m\n",
      "\u001b[1;32m~\\anaconda3\\lib\\site-packages\\tensorflow\\python\\eager\\def_function.py\u001b[0m in \u001b[0;36m_call\u001b[1;34m(self, *args, **kwds)\u001b[0m\n\u001b[0;32m    805\u001b[0m       \u001b[1;31m# In this case we have created variables on the first call, so we run the\u001b[0m\u001b[1;33m\u001b[0m\u001b[1;33m\u001b[0m\u001b[1;33m\u001b[0m\u001b[0m\n\u001b[0;32m    806\u001b[0m       \u001b[1;31m# defunned version which is guaranteed to never create variables.\u001b[0m\u001b[1;33m\u001b[0m\u001b[1;33m\u001b[0m\u001b[1;33m\u001b[0m\u001b[0m\n\u001b[1;32m--> 807\u001b[1;33m       \u001b[1;32mreturn\u001b[0m \u001b[0mself\u001b[0m\u001b[1;33m.\u001b[0m\u001b[0m_stateless_fn\u001b[0m\u001b[1;33m(\u001b[0m\u001b[1;33m*\u001b[0m\u001b[0margs\u001b[0m\u001b[1;33m,\u001b[0m \u001b[1;33m**\u001b[0m\u001b[0mkwds\u001b[0m\u001b[1;33m)\u001b[0m  \u001b[1;31m# pylint: disable=not-callable\u001b[0m\u001b[1;33m\u001b[0m\u001b[1;33m\u001b[0m\u001b[0m\n\u001b[0m\u001b[0;32m    808\u001b[0m     \u001b[1;32melif\u001b[0m \u001b[0mself\u001b[0m\u001b[1;33m.\u001b[0m\u001b[0m_stateful_fn\u001b[0m \u001b[1;32mis\u001b[0m \u001b[1;32mnot\u001b[0m \u001b[1;32mNone\u001b[0m\u001b[1;33m:\u001b[0m\u001b[1;33m\u001b[0m\u001b[1;33m\u001b[0m\u001b[0m\n\u001b[0;32m    809\u001b[0m       \u001b[1;31m# Release the lock early so that multiple threads can perform the call\u001b[0m\u001b[1;33m\u001b[0m\u001b[1;33m\u001b[0m\u001b[1;33m\u001b[0m\u001b[0m\n",
      "\u001b[1;32m~\\anaconda3\\lib\\site-packages\\tensorflow\\python\\eager\\function.py\u001b[0m in \u001b[0;36m__call__\u001b[1;34m(self, *args, **kwargs)\u001b[0m\n\u001b[0;32m   2827\u001b[0m     \u001b[1;32mwith\u001b[0m \u001b[0mself\u001b[0m\u001b[1;33m.\u001b[0m\u001b[0m_lock\u001b[0m\u001b[1;33m:\u001b[0m\u001b[1;33m\u001b[0m\u001b[1;33m\u001b[0m\u001b[0m\n\u001b[0;32m   2828\u001b[0m       \u001b[0mgraph_function\u001b[0m\u001b[1;33m,\u001b[0m \u001b[0margs\u001b[0m\u001b[1;33m,\u001b[0m \u001b[0mkwargs\u001b[0m \u001b[1;33m=\u001b[0m \u001b[0mself\u001b[0m\u001b[1;33m.\u001b[0m\u001b[0m_maybe_define_function\u001b[0m\u001b[1;33m(\u001b[0m\u001b[0margs\u001b[0m\u001b[1;33m,\u001b[0m \u001b[0mkwargs\u001b[0m\u001b[1;33m)\u001b[0m\u001b[1;33m\u001b[0m\u001b[1;33m\u001b[0m\u001b[0m\n\u001b[1;32m-> 2829\u001b[1;33m     \u001b[1;32mreturn\u001b[0m \u001b[0mgraph_function\u001b[0m\u001b[1;33m.\u001b[0m\u001b[0m_filtered_call\u001b[0m\u001b[1;33m(\u001b[0m\u001b[0margs\u001b[0m\u001b[1;33m,\u001b[0m \u001b[0mkwargs\u001b[0m\u001b[1;33m)\u001b[0m  \u001b[1;31m# pylint: disable=protected-access\u001b[0m\u001b[1;33m\u001b[0m\u001b[1;33m\u001b[0m\u001b[0m\n\u001b[0m\u001b[0;32m   2830\u001b[0m \u001b[1;33m\u001b[0m\u001b[0m\n\u001b[0;32m   2831\u001b[0m   \u001b[1;33m@\u001b[0m\u001b[0mproperty\u001b[0m\u001b[1;33m\u001b[0m\u001b[1;33m\u001b[0m\u001b[0m\n",
      "\u001b[1;32m~\\anaconda3\\lib\\site-packages\\tensorflow\\python\\eager\\function.py\u001b[0m in \u001b[0;36m_filtered_call\u001b[1;34m(self, args, kwargs, cancellation_manager)\u001b[0m\n\u001b[0;32m   1841\u001b[0m       \u001b[0;31m`\u001b[0m\u001b[0margs\u001b[0m\u001b[0;31m`\u001b[0m \u001b[1;32mand\u001b[0m\u001b[0;31m \u001b[0m\u001b[0;31m`\u001b[0m\u001b[0mkwargs\u001b[0m\u001b[0;31m`\u001b[0m\u001b[1;33m.\u001b[0m\u001b[1;33m\u001b[0m\u001b[1;33m\u001b[0m\u001b[0m\n\u001b[0;32m   1842\u001b[0m     \"\"\"\n\u001b[1;32m-> 1843\u001b[1;33m     return self._call_flat(\n\u001b[0m\u001b[0;32m   1844\u001b[0m         [t for t in nest.flatten((args, kwargs), expand_composites=True)\n\u001b[0;32m   1845\u001b[0m          if isinstance(t, (ops.Tensor,\n",
      "\u001b[1;32m~\\anaconda3\\lib\\site-packages\\tensorflow\\python\\eager\\function.py\u001b[0m in \u001b[0;36m_call_flat\u001b[1;34m(self, args, captured_inputs, cancellation_manager)\u001b[0m\n\u001b[0;32m   1921\u001b[0m         and executing_eagerly):\n\u001b[0;32m   1922\u001b[0m       \u001b[1;31m# No tape is watching; skip to running the function.\u001b[0m\u001b[1;33m\u001b[0m\u001b[1;33m\u001b[0m\u001b[1;33m\u001b[0m\u001b[0m\n\u001b[1;32m-> 1923\u001b[1;33m       return self._build_call_outputs(self._inference_function.call(\n\u001b[0m\u001b[0;32m   1924\u001b[0m           ctx, args, cancellation_manager=cancellation_manager))\n\u001b[0;32m   1925\u001b[0m     forward_backward = self._select_forward_and_backward_functions(\n",
      "\u001b[1;32m~\\anaconda3\\lib\\site-packages\\tensorflow\\python\\eager\\function.py\u001b[0m in \u001b[0;36mcall\u001b[1;34m(self, ctx, args, cancellation_manager)\u001b[0m\n\u001b[0;32m    543\u001b[0m       \u001b[1;32mwith\u001b[0m \u001b[0m_InterpolateFunctionError\u001b[0m\u001b[1;33m(\u001b[0m\u001b[0mself\u001b[0m\u001b[1;33m)\u001b[0m\u001b[1;33m:\u001b[0m\u001b[1;33m\u001b[0m\u001b[1;33m\u001b[0m\u001b[0m\n\u001b[0;32m    544\u001b[0m         \u001b[1;32mif\u001b[0m \u001b[0mcancellation_manager\u001b[0m \u001b[1;32mis\u001b[0m \u001b[1;32mNone\u001b[0m\u001b[1;33m:\u001b[0m\u001b[1;33m\u001b[0m\u001b[1;33m\u001b[0m\u001b[0m\n\u001b[1;32m--> 545\u001b[1;33m           outputs = execute.execute(\n\u001b[0m\u001b[0;32m    546\u001b[0m               \u001b[0mstr\u001b[0m\u001b[1;33m(\u001b[0m\u001b[0mself\u001b[0m\u001b[1;33m.\u001b[0m\u001b[0msignature\u001b[0m\u001b[1;33m.\u001b[0m\u001b[0mname\u001b[0m\u001b[1;33m)\u001b[0m\u001b[1;33m,\u001b[0m\u001b[1;33m\u001b[0m\u001b[1;33m\u001b[0m\u001b[0m\n\u001b[0;32m    547\u001b[0m               \u001b[0mnum_outputs\u001b[0m\u001b[1;33m=\u001b[0m\u001b[0mself\u001b[0m\u001b[1;33m.\u001b[0m\u001b[0m_num_outputs\u001b[0m\u001b[1;33m,\u001b[0m\u001b[1;33m\u001b[0m\u001b[1;33m\u001b[0m\u001b[0m\n",
      "\u001b[1;32m~\\anaconda3\\lib\\site-packages\\tensorflow\\python\\eager\\execute.py\u001b[0m in \u001b[0;36mquick_execute\u001b[1;34m(op_name, num_outputs, inputs, attrs, ctx, name)\u001b[0m\n\u001b[0;32m     57\u001b[0m   \u001b[1;32mtry\u001b[0m\u001b[1;33m:\u001b[0m\u001b[1;33m\u001b[0m\u001b[1;33m\u001b[0m\u001b[0m\n\u001b[0;32m     58\u001b[0m     \u001b[0mctx\u001b[0m\u001b[1;33m.\u001b[0m\u001b[0mensure_initialized\u001b[0m\u001b[1;33m(\u001b[0m\u001b[1;33m)\u001b[0m\u001b[1;33m\u001b[0m\u001b[1;33m\u001b[0m\u001b[0m\n\u001b[1;32m---> 59\u001b[1;33m     tensors = pywrap_tfe.TFE_Py_Execute(ctx._handle, device_name, op_name,\n\u001b[0m\u001b[0;32m     60\u001b[0m                                         inputs, attrs, num_outputs)\n\u001b[0;32m     61\u001b[0m   \u001b[1;32mexcept\u001b[0m \u001b[0mcore\u001b[0m\u001b[1;33m.\u001b[0m\u001b[0m_NotOkStatusException\u001b[0m \u001b[1;32mas\u001b[0m \u001b[0me\u001b[0m\u001b[1;33m:\u001b[0m\u001b[1;33m\u001b[0m\u001b[1;33m\u001b[0m\u001b[0m\n",
      "\u001b[1;31mKeyboardInterrupt\u001b[0m: "
     ]
    }
   ],
   "source": [
    "model = Sequential([\n",
    "    Conv2D(filters=32, kernel_size=(3, 3), activation='relu', padding = 'same', input_shape=(size_defined[0],size_defined[1],3)),\n",
    "    MaxPool2D(pool_size=(2, 2), strides=2),\n",
    "    Conv2D(filters=64, kernel_size=(3, 3), activation='relu', padding = 'same'),\n",
    "    MaxPool2D(pool_size=(2, 2), strides=2),\n",
    "    Flatten(),\n",
    "    Dense(units=2, activation='softmax') # 2 classes for classification \n",
    "])\n",
    "\n",
    "model.compile(optimizer=Adam(learning_rate=0.001), \n",
    "              loss='categorical_crossentropy', metrics=['accuracy'])\n",
    "batch_size = 10 \n",
    "model.fit(\n",
    "    x = train_batches, \n",
    "    steps_per_epoch=train_batches.samples // batch_size, \n",
    "    epochs=5, \n",
    "    validation_data=valid_batches, \n",
    "    validation_steps=valid_batches.samples // batch_size,\n",
    "    verbose=1)"
   ]
  },
  {
   "cell_type": "markdown",
   "metadata": {},
   "source": [
    "## Best performance"
   ]
  },
  {
   "cell_type": "markdown",
   "metadata": {},
   "source": [
    "After performing different architectures with different learning rates and epochs, we can see how when the learning rate is too big, we have convergence problems with the accuracy of the model. So that, we decided to choose low learning rate = 0.0001.\n",
    "\n",
    "With respect to epochs, we started trying a large number of i to see the performance in the long term. We saw that the training accuracy increased in each epoch but the validation one got stuck at certain epoch, where the CNN started overfitting.\n",
    "\n",
    "Despite the computational time is long, the results obtained are optimal."
   ]
  },
  {
   "cell_type": "code",
   "execution_count": 20,
   "metadata": {},
   "outputs": [
    {
     "name": "stdout",
     "output_type": "stream",
     "text": [
      "Epoch 1/5\n",
      "15/15 [==============================] - 129s 9s/step - loss: 5527.9497 - accuracy: 0.5333 - val_loss: 587.3497 - val_accuracy: 0.5000\n",
      "Epoch 2/5\n",
      "15/15 [==============================] - 163s 11s/step - loss: 132.0628 - accuracy: 0.6667 - val_loss: 7.2579 - val_accuracy: 0.7667\n",
      "Epoch 3/5\n",
      "15/15 [==============================] - 158s 11s/step - loss: 1.9157 - accuracy: 0.8533 - val_loss: 2.0507 - val_accuracy: 0.8333\n",
      "Epoch 4/5\n",
      "15/15 [==============================] - 148s 10s/step - loss: 0.3155 - accuracy: 0.9467 - val_loss: 1.1922 - val_accuracy: 0.8333\n",
      "Epoch 5/5\n",
      "15/15 [==============================] - 141s 9s/step - loss: 0.1123 - accuracy: 0.9467 - val_loss: 1.2461 - val_accuracy: 0.9000\n"
     ]
    },
    {
     "data": {
      "text/plain": [
       "<tensorflow.python.keras.callbacks.History at 0x20d13acbf40>"
      ]
     },
     "execution_count": 20,
     "metadata": {},
     "output_type": "execute_result"
    }
   ],
   "source": [
    "model = Sequential([\n",
    "    Conv2D(filters=32, kernel_size=(3, 3), activation='relu', padding = 'same', input_shape=(size_defined[0],size_defined[1],3)),\n",
    "    MaxPool2D(pool_size=(2, 2), strides=2),\n",
    "    Conv2D(filters=64, kernel_size=(3, 3), activation='relu', padding = 'same'),\n",
    "    MaxPool2D(pool_size=(2, 2), strides=2),\n",
    "    Flatten(),\n",
    "    Dense(units=2, activation='softmax') # 2 classes for classification \n",
    "])\n",
    "\n",
    "model.compile(optimizer=Adam(learning_rate=0.001), \n",
    "              loss='categorical_crossentropy', metrics=['accuracy'])\n",
    "batch_size = 10 \n",
    "model.fit(\n",
    "    x = train_batches, \n",
    "    steps_per_epoch=train_batches.samples // batch_size, \n",
    "    epochs=5, \n",
    "    validation_data=valid_batches, \n",
    "    validation_steps=valid_batches.samples // batch_size,\n",
    "    verbose=1)"
   ]
  },
  {
   "cell_type": "code",
   "execution_count": 21,
   "metadata": {},
   "outputs": [
    {
     "name": "stdout",
     "output_type": "stream",
     "text": [
      "3/3 - 6s\n"
     ]
    }
   ],
   "source": [
    "# making predictions\n",
    "# Verbose = 0 no arrow. 1 previous example . 2 = ?\n",
    "predictions = model.predict(x = test_batches, verbose=2)"
   ]
  },
  {
   "cell_type": "code",
   "execution_count": 22,
   "metadata": {},
   "outputs": [
    {
     "name": "stdout",
     "output_type": "stream",
     "text": [
      "[[1.00000000e+00 1.22998955e-09]\n",
      " [1.00000000e+00 5.35599124e-21]\n",
      " [1.00000000e+00 3.42842128e-18]\n",
      " [1.00000000e+00 1.89359917e-11]\n",
      " [1.00000000e+00 7.32537295e-12]\n",
      " [1.00000000e+00 1.38041867e-13]\n",
      " [1.00000000e+00 0.00000000e+00]\n",
      " [9.99991536e-01 8.47484262e-06]\n",
      " [1.00000000e+00 2.51088368e-31]\n",
      " [9.99940515e-01 5.95195088e-05]\n",
      " [9.99889135e-01 1.10865876e-04]\n",
      " [1.00000000e+00 3.37548212e-10]\n",
      " [1.00000000e+00 7.74078576e-26]\n",
      " [1.36175841e-01 8.63824189e-01]\n",
      " [1.00000000e+00 0.00000000e+00]\n",
      " [1.37291095e-10 1.00000000e+00]\n",
      " [6.12031592e-10 1.00000000e+00]\n",
      " [7.75534809e-01 2.24465236e-01]\n",
      " [5.08175790e-03 9.94918168e-01]\n",
      " [6.75808251e-01 3.24191689e-01]\n",
      " [3.41958493e-01 6.58041537e-01]\n",
      " [0.00000000e+00 1.00000000e+00]\n",
      " [0.00000000e+00 1.00000000e+00]\n",
      " [7.01033090e-13 1.00000000e+00]\n",
      " [1.73170075e-01 8.26829910e-01]\n",
      " [3.13444678e-14 1.00000000e+00]\n",
      " [9.23336577e-03 9.90766644e-01]\n",
      " [0.00000000e+00 1.00000000e+00]\n",
      " [0.00000000e+00 1.00000000e+00]\n",
      " [0.00000000e+00 1.00000000e+00]]\n"
     ]
    }
   ],
   "source": [
    "print(predictions)"
   ]
  },
  {
   "cell_type": "code",
   "execution_count": 23,
   "metadata": {},
   "outputs": [],
   "source": [
    "def plot_confusion_matrix(cm, classes,\n",
    "                          normalize=False,\n",
    "                          title='Confusion matrix',\n",
    "                          cmap=plt.cm.Blues):\n",
    "    \"\"\"\n",
    "    This function prints and plots the confusion matrix.\n",
    "    Normalization can be applied by setting `normalize=True`.\n",
    "    \"\"\"\n",
    "    plt.imshow(cm, interpolation='nearest', cmap=cmap)\n",
    "    plt.title(title)\n",
    "    plt.colorbar()\n",
    "    tick_marks = np.arange(len(classes))\n",
    "    plt.xticks(tick_marks, classes, rotation=45)\n",
    "    plt.yticks(tick_marks, classes)\n",
    "    if normalize:\n",
    "            cm = cm.astype('float') / cm.sum(axis=1)[:, np.newaxis]\n",
    "            print(\"Normalized confusion matrix\")\n",
    "    else:\n",
    "            print('Confusion matrix, without normalization')\n",
    "    print(cm)\n",
    "    thresh = cm.max() / 2.\n",
    "    for i, j in itertools.product(range(cm.shape[0]), range(cm.shape[1])):\n",
    "            plt.text(j, i, cm[i, j],\n",
    "            horizontalalignment=\"center\",\n",
    "            color=\"white\" if cm[i, j] > thresh else \"black\")\n",
    "            plt.tight_layout()\n",
    "            plt.ylabel('True label')\n",
    "            plt.xlabel('Predicted label')"
   ]
  },
  {
   "cell_type": "code",
   "execution_count": 24,
   "metadata": {},
   "outputs": [
    {
     "name": "stdout",
     "output_type": "stream",
     "text": [
      "Confusion matrix, without normalization\n",
      "[[14  1]\n",
      " [ 2 13]]\n"
     ]
    },
    {
     "data": {
      "image/png": "[encoded data removed]",
      "text/plain": [
       "<Figure size 432x288 with 2 Axes>"
      ]
     },
     "metadata": {
      "needs_background": "light"
     },
     "output_type": "display_data"
    }
   ],
   "source": [
    "from sklearn.metrics import confusion_matrix\n",
    "import itertools\n",
    "cm = confusion_matrix(y_true=test_batches.classes, y_pred=np.argmax(predictions, axis=-1))\n",
    "plot_confusion_matrix(cm, classes = ['Hemo', 'Normal'])"
   ]
  },
  {
   "cell_type": "code",
   "execution_count": null,
   "metadata": {},
   "outputs": [],
   "source": []
  }
 ],
 "metadata": {
  "kernelspec": {
   "display_name": "Python 3",
   "language": "python",
   "name": "python3"
  },
  "language_info": {
   "codemirror_mode": {
    "name": "ipython",
    "version": 3
   },
   "file_extension": ".py",
   "mimetype": "text/x-python",
   "name": "python",
   "nbconvert_exporter": "python",
   "pygments_lexer": "ipython3",
   "version": "3.8.3"
  }
 },
 "nbformat": 4,
 "nbformat_minor": 4
}
